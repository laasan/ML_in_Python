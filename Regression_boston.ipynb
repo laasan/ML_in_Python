{
 "cells": [
  {
   "cell_type": "code",
   "execution_count": 5,
   "metadata": {},
   "outputs": [
    {
     "name": "stdout",
     "output_type": "stream",
     "text": [
      "Правильность на обучающем наборе: 0.77\n",
      "Правильность на тестовом наборе: 0.64\n"
     ]
    }
   ],
   "source": [
    "#LinearRegression\n",
    "from sklearn.model_selection import train_test_split\n",
    "from sklearn.linear_model import LinearRegression\n",
    "\n",
    "from sklearn.datasets import load_boston\n",
    "boston = load_boston()\n",
    "\n",
    "X, y = boston.data, boston.target\n",
    "X_train, X_test, y_train, y_test = train_test_split(X, y, random_state=0)\n",
    "lr = LinearRegression().fit(X_train, y_train)\n",
    "\n",
    "print(\"Правильность на обучающем наборе: {:.2f}\".format(lr.score(X_train, y_train)))\n",
    "print(\"Правильность на тестовом наборе: {:.2f}\".format(lr.score(X_test, y_test)))"
   ]
  },
  {
   "cell_type": "code",
   "execution_count": 6,
   "metadata": {},
   "outputs": [
    {
     "name": "stdout",
     "output_type": "stream",
     "text": [
      "форма массива data для набора boston: (506, 13)\n",
      "Имена признаков:\n",
      "['CRIM' 'ZN' 'INDUS' 'CHAS' 'NOX' 'RM' 'AGE' 'DIS' 'RAD' 'TAX' 'PTRATIO'\n",
      " 'B' 'LSTAT']\n"
     ]
    }
   ],
   "source": [
    "print(\"форма массива data для набора boston: {}\".format(boston.data.shape))\n",
    "print(\"Имена признаков:\\n{}\".format(boston.feature_names))"
   ]
  },
  {
   "cell_type": "code",
   "execution_count": 7,
   "metadata": {},
   "outputs": [
    {
     "name": "stdout",
     "output_type": "stream",
     "text": [
      "Правильность на обучающем наборе: 0.77\n",
      "Правильность на тестовом наборе: 0.63\n"
     ]
    }
   ],
   "source": [
    "#Ridge regression\n",
    "from sklearn.linear_model import Ridge\n",
    "ridge = Ridge().fit(X_train, y_train)\n",
    "print(\"Правильность на обучающем наборе: {:.2f}\".format(ridge.score(X_train, y_train)))\n",
    "print(\"Правильность на тестовом наборе: {:.2f}\".format(ridge.score(X_test, y_test)))"
   ]
  },
  {
   "cell_type": "code",
   "execution_count": 8,
   "metadata": {},
   "outputs": [
    {
     "name": "stdout",
     "output_type": "stream",
     "text": [
      "Правильность на обучающем наборе: 0.76\n",
      "Правильность на тестовом наборе: 0.61\n"
     ]
    }
   ],
   "source": [
    "ridge10 = Ridge(alpha=10).fit(X_train, y_train)\n",
    "print(\"Правильность на обучающем наборе: {:.2f}\".format(ridge10.score(X_train, y_train)))\n",
    "print(\"Правильность на тестовом наборе: {:.2f}\".format(ridge10.score(X_test, y_test)))"
   ]
  },
  {
   "cell_type": "code",
   "execution_count": 9,
   "metadata": {},
   "outputs": [
    {
     "name": "stdout",
     "output_type": "stream",
     "text": [
      "Правильность на обучающем наборе: 0.77\n",
      "Правильность на тестовом наборе: 0.63\n"
     ]
    }
   ],
   "source": [
    "ridge01 = Ridge(alpha=0.1).fit(X_train, y_train)\n",
    "print(\"Правильность на обучающем наборе: {:.2f}\".format(ridge01.score(X_train, y_train)))\n",
    "print(\"Правильность на тестовом наборе: {:.2f}\".format(ridge01.score(X_test, y_test)))"
   ]
  },
  {
   "cell_type": "code",
   "execution_count": 20,
   "metadata": {},
   "outputs": [
    {
     "data": {
      "image/png": "[encoded data removed]",
      "text/plain": [
       "<matplotlib.figure.Figure at 0xbd368d0>"
      ]
     },
     "metadata": {},
     "output_type": "display_data"
    }
   ],
   "source": [
    "import matplotlib.pyplot as plt\n",
    "\n",
    "plt.plot(ridge.coef_, 's', label=\"Гребневая регрессия alpha=1\")\n",
    "plt.plot(ridge10.coef_, '^', label=\"Гребневая регрессия alpha=10\")\n",
    "plt.plot(ridge01.coef_, 'v', label=\"Гребневая регрессия alpha=0.1\")\n",
    "plt.plot(lr.coef_, 'o', label=\"Линейная регрессия\")\n",
    "plt.xlabel(\"Индекс коэффициента\")\n",
    "plt.ylabel(\"Оценка коэффициента\")\n",
    "plt.hlines(0, 0, len(lr.coef_))\n",
    "plt.ylim(-25, 25)\n",
    "plt.legend()\n",
    "plt.show()"
   ]
  },
  {
   "cell_type": "code",
   "execution_count": 11,
   "metadata": {},
   "outputs": [
    {
     "name": "stdout",
     "output_type": "stream",
     "text": [
      "Правильность на обучающем наборе: 0.72\n",
      "Правильность на контрольном наборе: 0.55\n",
      "Количество использованных признаков: 11\n"
     ]
    }
   ],
   "source": [
    "#Lasso\n",
    "import numpy as np\n",
    "from sklearn.linear_model import Lasso\n",
    "lasso = Lasso().fit(X_train, y_train)\n",
    "print(\"Правильность на обучающем наборе: {:.2f}\".format(lasso.score(X_train, y_train)))\n",
    "print(\"Правильность на контрольном наборе: {:.2f}\".format(lasso.score(X_test, y_test)))\n",
    "print(\"Количество использованных признаков: {}\".format(np.sum(lasso.coef_ != 0)))"
   ]
  },
  {
   "cell_type": "code",
   "execution_count": 13,
   "metadata": {},
   "outputs": [
    {
     "name": "stdout",
     "output_type": "stream",
     "text": [
      "Правильность на обучающем наборе: 0.77\n",
      "Правильность на тестовом наборе: 0.63\n",
      "Количество использованных признаков: 13\n"
     ]
    }
   ],
   "source": [
    "# мы увеличиваем значение \"max_iter\",\n",
    "# иначе модель выдаст предупреждение, что нужно увеличить max_iter.\n",
    "lasso001 = Lasso(alpha=0.01, max_iter=100000).fit(X_train, y_train)\n",
    "print(\"Правильность на обучающем наборе: {:.2f}\".format(lasso001.score(X_train, y_train)))\n",
    "print(\"Правильность на тестовом наборе: {:.2f}\".format(lasso001.score(X_test, y_test)))\n",
    "print(\"Количество использованных признаков: {}\".format(np.sum(lasso001.coef_ != 0)))"
   ]
  },
  {
   "cell_type": "code",
   "execution_count": 14,
   "metadata": {},
   "outputs": [
    {
     "name": "stdout",
     "output_type": "stream",
     "text": [
      "Правильность на обучающем наборе: 0.77\n",
      "Правильность на тестовом наборе: 0.64\n",
      "Количество использованных признаков: 13\n"
     ]
    }
   ],
   "source": [
    "lasso00001 = Lasso(alpha=0.0001, max_iter=100000).fit(X_train, y_train)\n",
    "print(\"Правильность на обучающем наборе: {:.2f}\".format(lasso00001.score(X_train, y_train)))\n",
    "print(\"Правильность на тестовом наборе: {:.2f}\".format(lasso00001.score(X_test, y_test)))\n",
    "print(\"Количество использованных признаков: {}\".format(np.sum(lasso00001.coef_ != 0)))"
   ]
  },
  {
   "cell_type": "code",
   "execution_count": 21,
   "metadata": {},
   "outputs": [
    {
     "data": {
      "image/png": "[encoded data removed]",
      "text/plain": [
       "<matplotlib.figure.Figure at 0xbdf8320>"
      ]
     },
     "metadata": {},
     "output_type": "display_data"
    }
   ],
   "source": [
    "plt.plot(lasso.coef_, 's', label=\"Лассо alpha=1\")\n",
    "plt.plot(lasso001.coef_, '^', label=\"Лассо alpha=0.01\")\n",
    "plt.plot(lasso00001.coef_, 'v', label=\"Лассо alpha=0.0001\")\n",
    "plt.plot(ridge01.coef_, 'o', label=\"Гребневая регрессия alpha=0.1\")\n",
    "plt.legend(ncol=2, loc=(0, 1.05))\n",
    "plt.ylim(-25, 25)\n",
    "plt.xlabel(\"Индекс коэффициента\")\n",
    "plt.ylabel(\"Оценка коэффициента\")\n",
    "plt.show()"
   ]
  },
  {
   "cell_type": "code",
   "execution_count": null,
   "metadata": {
    "collapsed": true
   },
   "outputs": [],
   "source": []
  }
 ],
 "metadata": {
  "kernelspec": {
   "display_name": "Python 3",
   "language": "python",
   "name": "python3"
  },
  "language_info": {
   "codemirror_mode": {
    "name": "ipython",
    "version": 3
   },
   "file_extension": ".py",
   "mimetype": "text/x-python",
   "name": "python",
   "nbconvert_exporter": "python",
   "pygments_lexer": "ipython3",
   "version": "3.6.3"
  }
 },
 "nbformat": 4,
 "nbformat_minor": 2
}
