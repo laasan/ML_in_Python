{
 "cells": [
  {
   "cell_type": "code",
   "execution_count": 1,
   "metadata": {},
   "outputs": [
    {
     "name": "stdout",
     "output_type": "stream",
     "text": [
      "(426, 30)\n",
      "(143, 30)\n"
     ]
    }
   ],
   "source": [
    "#Различные способы масштабирования и предварительной обработки данных\n",
    "from sklearn.datasets import load_breast_cancer\n",
    "from sklearn.model_selection import train_test_split\n",
    "cancer = load_breast_cancer()\n",
    "X_train, X_test, y_train, y_test = train_test_split(cancer.data, cancer.target,random_state=1)\n",
    "\n",
    "print(X_train.shape)\n",
    "print(X_test.shape)"
   ]
  },
  {
   "cell_type": "code",
   "execution_count": 2,
   "metadata": {},
   "outputs": [
    {
     "data": {
      "text/plain": [
       "MinMaxScaler(copy=True, feature_range=(0, 1))"
      ]
     },
     "execution_count": 2,
     "metadata": {},
     "output_type": "execute_result"
    }
   ],
   "source": [
    "from sklearn.preprocessing import MinMaxScaler\n",
    "scaler = MinMaxScaler()\n",
    "scaler.fit(X_train)"
   ]
  },
  {
   "cell_type": "code",
   "execution_count": 3,
   "metadata": {},
   "outputs": [
    {
     "name": "stdout",
     "output_type": "stream",
     "text": [
      "форма преобразованного массива: (426, 30)\n",
      "min значение признака до масштабирования:\n",
      " [  6.98100000e+00   9.71000000e+00   4.37900000e+01   1.43500000e+02\n",
      "   5.26300000e-02   1.93800000e-02   0.00000000e+00   0.00000000e+00\n",
      "   1.06000000e-01   5.02400000e-02   1.15300000e-01   3.60200000e-01\n",
      "   7.57000000e-01   6.80200000e+00   1.71300000e-03   2.25200000e-03\n",
      "   0.00000000e+00   0.00000000e+00   9.53900000e-03   8.94800000e-04\n",
      "   7.93000000e+00   1.20200000e+01   5.04100000e+01   1.85200000e+02\n",
      "   7.11700000e-02   2.72900000e-02   0.00000000e+00   0.00000000e+00\n",
      "   1.56600000e-01   5.52100000e-02]\n",
      "max значение признака до масштабирования:\n",
      " [  2.81100000e+01   3.92800000e+01   1.88500000e+02   2.50100000e+03\n",
      "   1.63400000e-01   2.86700000e-01   4.26800000e-01   2.01200000e-01\n",
      "   3.04000000e-01   9.57500000e-02   2.87300000e+00   4.88500000e+00\n",
      "   2.19800000e+01   5.42200000e+02   3.11300000e-02   1.35400000e-01\n",
      "   3.96000000e-01   5.27900000e-02   6.14600000e-02   2.98400000e-02\n",
      "   3.60400000e+01   4.95400000e+01   2.51200000e+02   4.25400000e+03\n",
      "   2.22600000e-01   9.37900000e-01   1.17000000e+00   2.91000000e-01\n",
      "   5.77400000e-01   1.48600000e-01]\n",
      "min значение признака после масштабирования:\n",
      " [ 0.  0.  0.  0.  0.  0.  0.  0.  0.  0.  0.  0.  0.  0.  0.  0.  0.  0.\n",
      "  0.  0.  0.  0.  0.  0.  0.  0.  0.  0.  0.  0.]\n",
      "max значение признака после масштабирования:\n",
      " [ 1.  1.  1.  1.  1.  1.  1.  1.  1.  1.  1.  1.  1.  1.  1.  1.  1.  1.\n",
      "  1.  1.  1.  1.  1.  1.  1.  1.  1.  1.  1.  1.]\n"
     ]
    }
   ],
   "source": [
    "# преобразовываем данные\n",
    "X_train_scaled = scaler.transform(X_train)\n",
    "# печатаем значения признаков в обучающем наборе до и после масштабирования\n",
    "print(\"форма преобразованного массива: {}\".format(X_train_scaled.shape))\n",
    "print(\"min значение признака до масштабирования:\\n {}\".format(X_train.min(axis=0)))\n",
    "print(\"max значение признака до масштабирования:\\n {}\".format(X_train.max(axis=0)))\n",
    "print(\"min значение признака после масштабирования:\\n {}\".format(\n",
    "X_train_scaled.min(axis=0)))\n",
    "print(\"max значение признака после масштабирования:\\n {}\".format(\n",
    "X_train_scaled.max(axis=0)))"
   ]
  },
  {
   "cell_type": "code",
   "execution_count": 4,
   "metadata": {},
   "outputs": [
    {
     "name": "stdout",
     "output_type": "stream",
     "text": [
      "min значение признака после масштабирования:\n",
      "[ 0.0336031   0.0226581   0.03144219  0.01141039  0.14128374  0.04406704\n",
      "  0.          0.          0.1540404  -0.00615249 -0.00137796  0.00594501\n",
      "  0.00430665  0.00079567  0.03919502  0.0112206   0.          0.\n",
      " -0.03191387  0.00664013  0.02660975  0.05810235  0.02031974  0.00943767\n",
      "  0.1094235   0.02637792  0.          0.         -0.00023764 -0.00182032]\n",
      "max значение признака после масштабирования:\n",
      "[ 0.9578778   0.81501522  0.95577362  0.89353128  0.81132075  1.21958701\n",
      "  0.87956888  0.9333996   0.93232323  1.0371347   0.42669616  0.49765736\n",
      "  0.44117231  0.28371044  0.48703131  0.73863671  0.76717172  0.62928585\n",
      "  1.33685792  0.39057253  0.89612238  0.79317697  0.84859804  0.74488793\n",
      "  0.9154725   1.13188961  1.07008547  0.92371134  1.20532319  1.63068851]\n"
     ]
    }
   ],
   "source": [
    "# преобразовываем тестовые данные\n",
    "X_test_scaled = scaler.transform(X_test)\n",
    "# печатаем значения признаков в тестовом наборе после масштабирования\n",
    "print(\"min значение признака после масштабирования:\\n{}\".format(X_test_scaled.min(axis=0)))\n",
    "print(\"max значение признака после масштабирования:\\n{}\".format(X_test_scaled.max(axis=0)))"
   ]
  },
  {
   "cell_type": "code",
   "execution_count": 7,
   "metadata": {},
   "outputs": [
    {
     "data": {
      "image/png": "[encoded data removed]",
      "text/plain": [
       "<matplotlib.figure.Figure at 0x8dd4dd8>"
      ]
     },
     "metadata": {},
     "output_type": "display_data"
    }
   ],
   "source": [
    "#Чтобы модель контролируемого обучения работала на тестовом наборе, важно преобразовать обучающий и тестовый наборы одинаковым\n",
    "#образом. Следующий пример показывает, что произошло бы, если бы мы использовали минимальное значение и ширину диапазона,\n",
    "#отдельно вычисленные для тестового набора:\n",
    "\n",
    "import matplotlib.pyplot as plt\n",
    "\n",
    "from sklearn.datasets import make_blobs\n",
    "# создаем синтетические данные\n",
    "X, _ = make_blobs(n_samples=50, centers=5, random_state=4, cluster_std=2)\n",
    "# разбиваем их на обучающий и тестовый наборы\n",
    "X_train, X_test = train_test_split(X, random_state=5, test_size=.1)\n",
    "\n",
    "# размещаем на графике обучающий и тестовый наборы\n",
    "fig, axes = plt.subplots(1, 3, figsize=(13, 4))\n",
    "axes[0].scatter(X_train[:, 0], X_train[:, 1], label=\"Обучающий набор\", s=60)\n",
    "axes[0].scatter(X_test[:, 0], X_test[:, 1], marker='^', label=\"Тестовый набор\", s=60)\n",
    "axes[0].legend(loc='upper left')\n",
    "axes[0].set_title(\"Исходные данные\")\n",
    "\n",
    "# масштабируем данные с помощью MinMaxScaler\n",
    "scaler = MinMaxScaler()\n",
    "scaler.fit(X_train)\n",
    "X_train_scaled = scaler.transform(X_train)\n",
    "X_test_scaled = scaler.transform(X_test)\n",
    "\n",
    "# визуализируем правильно масштабированные данные\n",
    "axes[1].scatter(X_train_scaled[:, 0], X_train_scaled[:, 1], label=\"Обучающий набор\", s=60)\n",
    "axes[1].scatter(X_test_scaled[:, 0], X_test_scaled[:, 1], marker='^', label=\"Тестовый набор\", s=60)\n",
    "axes[1].set_title(\"Масштабированные данные\")\n",
    "\n",
    "# масштабируем тестовый набор отдельно\n",
    "# чтобы в тестовом наборе min значение каждого признака было равно 0\n",
    "# а max значение каждого признака равнялось 1\n",
    "# НЕ ДЕЛАЙТЕ ТАК! Только в ознакомительных целях.\n",
    "test_scaler = MinMaxScaler()\n",
    "test_scaler.fit(X_test)\n",
    "X_test_scaled_badly = test_scaler.transform(X_test)\n",
    "\n",
    "# визуализируем неправильно масштабированные данные\n",
    "axes[2].scatter(X_train_scaled[:, 0], X_train_scaled[:, 1], label=\"Обучающий набор\", s=60)\n",
    "axes[2].scatter(X_test_scaled_badly[:, 0], X_test_scaled_badly[:, 1],marker='^', label=\"Тестовый набор\", s=60)\n",
    "axes[2].set_title(\"Неправильно масштабированные данные\")\n",
    "for ax in axes:\n",
    "    ax.set_xlabel(\"Признак 0\")\n",
    "    ax.set_ylabel(\"Признак 1\")\n",
    "plt.show()"
   ]
  },
  {
   "cell_type": "code",
   "execution_count": 8,
   "metadata": {},
   "outputs": [
    {
     "name": "stdout",
     "output_type": "stream",
     "text": [
      "Правильность на тестовом наборе: 0.63\n"
     ]
    }
   ],
   "source": [
    "#посмотрим, как использование MinMaxScaler повлияет на обучение SVC\n",
    "from sklearn.svm import SVC\n",
    "X_train, X_test, y_train, y_test = train_test_split(cancer.data, cancer.target,\n",
    "random_state=0)\n",
    "svm = SVC(C=100)\n",
    "svm.fit(X_train, y_train)\n",
    "print(\"Правильность на тестовом наборе: {:.2f}\".format(svm.score(X_test, y_test)))"
   ]
  },
  {
   "cell_type": "code",
   "execution_count": 9,
   "metadata": {},
   "outputs": [
    {
     "name": "stdout",
     "output_type": "stream",
     "text": [
      "Правильность на масштабированном тестовом наборе: 0.97\n"
     ]
    }
   ],
   "source": [
    "#Теперь давайте отмасштабируем данные с помощью MinMaxScaler перед тем, как подгонять SVC\n",
    "# предварительная обработка с помощью шкалирования 0-1\n",
    "scaler = MinMaxScaler()\n",
    "scaler.fit(X_train)\n",
    "X_train_scaled = scaler.transform(X_train)\n",
    "X_test_scaled = scaler.transform(X_test)\n",
    "# построение SVM на масштабированных обучающих данных\n",
    "svm.fit(X_train_scaled, y_train)\n",
    "# оценка правильности для масштабированного тестового набора\n",
    "print(\"Правильность на масштабированном тестовом наборе: {:.2f}\".format(\n",
    "svm.score(X_test_scaled, y_test)))"
   ]
  },
  {
   "cell_type": "code",
   "execution_count": 11,
   "metadata": {},
   "outputs": [
    {
     "name": "stdout",
     "output_type": "stream",
     "text": [
      "Правильность SVM на тестовом наборе: 0.96\n"
     ]
    }
   ],
   "source": [
    "# предварительная обработка с помощью масштабирования\n",
    "# нулевым средним и единичной дисперсией\n",
    "from sklearn.preprocessing import StandardScaler\n",
    "scaler = StandardScaler()\n",
    "scaler.fit(X_train)\n",
    "X_train_scaled = scaler.transform(X_train)\n",
    "X_test_scaled = scaler.transform(X_test)\n",
    "# построение SVM на масштабированных обучающих данных\n",
    "svm.fit(X_train_scaled, y_train)\n",
    "# оценка правильности для масштабированного тестового набора\n",
    "print(\"Правильность SVM на тестовом наборе: {:.2f}\".format(svm.score(X_test_scaled, y_test)))"
   ]
  },
  {
   "cell_type": "code",
   "execution_count": 1,
   "metadata": {},
   "outputs": [
    {
     "name": "stdout",
     "output_type": "stream",
     "text": [
      "форма обучающего массива X: (379, 13)\n",
      "форма обучающего массива X полиномы и взаим: (379, 105)\n"
     ]
    }
   ],
   "source": [
    "#полиномы исодных признаков (PolinomialFatures)\n",
    "from sklearn.preprocessing import PolynomialFeatures\n",
    "from sklearn.datasets import load_boston \n",
    "from sklearn.model_selection import train_test_split \n",
    "from sklearn.preprocessing import MinMaxScaler \n",
    " \n",
    "boston = load_boston() \n",
    "X_train, X_test, y_train, y_test = train_test_split (boston.data, boston.target, random_state=0) \n",
    " \n",
    "# масштабируем данные \n",
    "scaler = MinMaxScaler() \n",
    "X_train_scaled = scaler.fit_transform(X_train) \n",
    "X_test_scaled = scaler.transform(X_test) \n",
    "\n",
    "poly = PolynomialFeatures(degree=2).fit(X_train_scaled) \n",
    "X_train_poly = poly.transform(X_train_scaled) \n",
    "X_test_poly = poly.transform(X_test_scaled) \n",
    "print(\"форма обучающего массива X: {}\".format(X_train.shape)) \n",
    "print(\"форма обучающего массива X полиномы и взаим: {}\".format(X_train_poly.shape)) "
   ]
  },
  {
   "cell_type": "code",
   "execution_count": 2,
   "metadata": {},
   "outputs": [
    {
     "name": "stdout",
     "output_type": "stream",
     "text": [
      "Имена полиномиальных признаков:\n",
      "['1', 'x0', 'x1', 'x2', 'x3', 'x4', 'x5', 'x6', 'x7', 'x8', 'x9', 'x10', 'x11', 'x12', 'x0^2', 'x0 x1', 'x0 x2', 'x0 x3', 'x0 x4', 'x0 x5', 'x0 x6', 'x0 x7', 'x0 x8', 'x0 x9', 'x0 x10', 'x0 x11', 'x0 x12', 'x1^2', 'x1 x2', 'x1 x3', 'x1 x4', 'x1 x5', 'x1 x6', 'x1 x7', 'x1 x8', 'x1 x9', 'x1 x10', 'x1 x11', 'x1 x12', 'x2^2', 'x2 x3', 'x2 x4', 'x2 x5', 'x2 x6', 'x2 x7', 'x2 x8', 'x2 x9', 'x2 x10', 'x2 x11', 'x2 x12', 'x3^2', 'x3 x4', 'x3 x5', 'x3 x6', 'x3 x7', 'x3 x8', 'x3 x9', 'x3 x10', 'x3 x11', 'x3 x12', 'x4^2', 'x4 x5', 'x4 x6', 'x4 x7', 'x4 x8', 'x4 x9', 'x4 x10', 'x4 x11', 'x4 x12', 'x5^2', 'x5 x6', 'x5 x7', 'x5 x8', 'x5 x9', 'x5 x10', 'x5 x11', 'x5 x12', 'x6^2', 'x6 x7', 'x6 x8', 'x6 x9', 'x6 x10', 'x6 x11', 'x6 x12', 'x7^2', 'x7 x8', 'x7 x9', 'x7 x10', 'x7 x11', 'x7 x12', 'x8^2', 'x8 x9', 'x8 x10', 'x8 x11', 'x8 x12', 'x9^2', 'x9 x10', 'x9 x11', 'x9 x12', 'x10^2', 'x10 x11', 'x10 x12', 'x11^2', 'x11 x12', 'x12^2']\n"
     ]
    }
   ],
   "source": [
    "#13 первоначальных признаков превратились в 105\n",
    "print(\"Имена полиномиальных признаков:\\n{}\".format(poly.get_feature_names())) "
   ]
  },
  {
   "cell_type": "code",
   "execution_count": 3,
   "metadata": {},
   "outputs": [
    {
     "name": "stdout",
     "output_type": "stream",
     "text": [
      "Правильность на тестовом наборе без взаимодействий: 0.621\n",
      "Правильность на тестовом наборе с взаимодействиями: 0.753\n"
     ]
    }
   ],
   "source": [
    "#в  случае  с  гребневой  регрессией  взаимодействия  и \n",
    "#полиномиальные  признаки позволяют  улучшить  правильность модели\n",
    "from sklearn.linear_model import Ridge \n",
    "ridge = Ridge().fit(X_train_scaled, y_train) \n",
    "print(\"Правильность на тестовом наборе без взаимодействий: {:.3f}\".format(\n",
    "    ridge.score(X_test_scaled, y_test))) \n",
    "ridge = Ridge().fit(X_train_poly, y_train) \n",
    "print(\"Правильность на тестовом наборе с взаимодействиями: {:.3f}\".format(\n",
    "    ridge.score(X_test_poly, y_test))) "
   ]
  },
  {
   "cell_type": "code",
   "execution_count": 6,
   "metadata": {},
   "outputs": [
    {
     "name": "stdout",
     "output_type": "stream",
     "text": [
      "Правильность на тестовом наборе без взаимодействий: 0.806\n",
      "Правильность на тестовом наборе с взаимодействиями:0.771\n"
     ]
    }
   ],
   "source": [
    "#а случайному лесу включение взаимодействий и полиномов ухудшает прогноз\n",
    "from sklearn.ensemble import RandomForestRegressor \n",
    "rf = RandomForestRegressor(n_estimators=100).fit(X_train_scaled, y_train) \n",
    "print(\"Правильность на тестовом наборе без взаимодействий: {:.3f}\".format( \n",
    "    rf.score(X_test_scaled, y_test))) \n",
    "rf = RandomForestRegressor(n_estimators=100).fit(X_train_poly, y_train) \n",
    "print(\"Правильность на тестовом наборе с взаимодействиями:{:.3f}\".format(\n",
    "    rf.score(X_test_poly, y_test))) "
   ]
  },
  {
   "cell_type": "code",
   "execution_count": 8,
   "metadata": {},
   "outputs": [
    {
     "name": "stdout",
     "output_type": "stream",
     "text": [
      "форма массива X_train: (284, 80)\n",
      "форма массива X_train_selected: (284, 40)\n"
     ]
    }
   ],
   "source": [
    "#Отбор признаков (одномерные статистики)\n",
    "from sklearn.datasets import load_breast_cancer \n",
    "from sklearn.feature_selection import SelectPercentile \n",
    "from sklearn.model_selection import train_test_split \n",
    "import numpy as np\n",
    " \n",
    "cancer = load_breast_cancer() \n",
    " \n",
    "# задаем определенное стартовое значение для воспроизводимости результата \n",
    "rng = np.random.RandomState(42) \n",
    "noise = rng.normal(size=(len(cancer.data), 50)) \n",
    "# добавляем к данным шумовые признаки \n",
    "# первые 30 признаков являются исходными, остальные 50 являются шумовыми \n",
    "X_w_noise = np.hstack([cancer.data, noise]) \n",
    " \n",
    "X_train, X_test, y_train, y_test = train_test_split( \n",
    "    X_w_noise, cancer.target, random_state=0, test_size=.5) \n",
    "# используем f_classif (по умолчанию) \n",
    "# и SelectPercentile, чтобы выбрать 50% признаков \n",
    "select = SelectPercentile(percentile=50) \n",
    "select.fit(X_train, y_train) \n",
    "# преобразовываем обучающий набор \n",
    "X_train_selected = select.transform(X_train) \n",
    " \n",
    "print(\"форма массива X_train: {}\".format(X_train.shape)) \n",
    "print(\"форма массива X_train_selected: {}\".format(X_train_selected.shape)) \n",
    " "
   ]
  },
  {
   "cell_type": "code",
   "execution_count": 10,
   "metadata": {},
   "outputs": [
    {
     "name": "stdout",
     "output_type": "stream",
     "text": [
      "[ True  True  True  True  True  True  True  True  True False  True False\n",
      "  True  True  True  True  True  True False False  True  True  True  True\n",
      "  True  True  True  True  True  True False False False  True False  True\n",
      " False False  True False False False False  True False False  True False\n",
      " False  True False  True False False False False False False  True False\n",
      "  True False False False False  True False  True False False False False\n",
      "  True  True False  True False False False False]\n"
     ]
    },
    {
     "data": {
      "image/png": "[encoded data removed]",
      "text/plain": [
       "<matplotlib.figure.Figure at 0x8211c90>"
      ]
     },
     "metadata": {},
     "output_type": "display_data"
    }
   ],
   "source": [
    "import matplotlib.pyplot as plt\n",
    "mask = select.get_support() \n",
    "print(mask) \n",
    "# визуализируем булевы значения: черный – True, белый – False \n",
    "plt.matshow(mask.reshape(1, -1), cmap='gray_r') \n",
    "plt.xlabel(\"Индекс примера\") \n",
    "plt.show()"
   ]
  },
  {
   "cell_type": "code",
   "execution_count": 11,
   "metadata": {},
   "outputs": [
    {
     "name": "stdout",
     "output_type": "stream",
     "text": [
      "Правильность со всеми признаками: 0.930\n",
      "Правильность только с отобранными признаками: 0.940\n"
     ]
    }
   ],
   "source": [
    "from sklearn.linear_model import LogisticRegression \n",
    " \n",
    "# преобразовываем тестовые данные \n",
    "X_test_selected = select.transform(X_test) \n",
    " \n",
    "lr = LogisticRegression() \n",
    "lr.fit(X_train, y_train) \n",
    "print(\"Правильность со всеми признаками: {:.3f}\".format(lr.score(X_test, y_test))) \n",
    "lr.fit(X_train_selected, y_train) \n",
    "print(\"Правильность только с отобранными признаками: {:.3f}\".format( \n",
    "    lr.score(X_test_selected, y_test))) "
   ]
  },
  {
   "cell_type": "code",
   "execution_count": 12,
   "metadata": {},
   "outputs": [
    {
     "name": "stdout",
     "output_type": "stream",
     "text": [
      "форма обуч набора X: (284, 80)\n",
      "форма обуч набора X c l1: (284, 40)\n"
     ]
    }
   ],
   "source": [
    "#Отбор признаков на основе модели\n",
    "from sklearn.feature_selection import SelectFromModel \n",
    "from sklearn.ensemble import RandomForestClassifier \n",
    "select = SelectFromModel( \n",
    "    RandomForestClassifier(n_estimators=100, random_state=42), \n",
    "    threshold=\"median\") \n",
    "select.fit(X_train, y_train) \n",
    "X_train_l1 = select.transform(X_train) \n",
    "print(\"форма обуч набора X: {}\".format(X_train.shape)) \n",
    "print(\"форма обуч набора X c l1: {}\".format(X_train_l1.shape)) "
   ]
  },
  {
   "cell_type": "code",
   "execution_count": 15,
   "metadata": {},
   "outputs": [
    {
     "data": {
      "image/png": "[encoded data removed]",
      "text/plain": [
       "<matplotlib.figure.Figure at 0x8c16050>"
      ]
     },
     "metadata": {},
     "output_type": "display_data"
    }
   ],
   "source": [
    "mask = select.get_support() \n",
    "# визуализируем булевы значения -- черный – True, белый – False \n",
    "plt.matshow(mask.reshape(1, -1), cmap='gray_r') \n",
    "plt.xlabel(\"Индекс примера\") \n",
    "plt.show()"
   ]
  },
  {
   "cell_type": "code",
   "execution_count": 16,
   "metadata": {},
   "outputs": [
    {
     "name": "stdout",
     "output_type": "stream",
     "text": [
      "Правильность на тестовом наборе: 0.951\n"
     ]
    }
   ],
   "source": [
    "X_test_l1 = select.transform(X_test) \n",
    "score = LogisticRegression().fit(X_train_l1, y_train).score(X_test_l1, y_test) \n",
    "print(\"Правильность на тестовом наборе: {:.3f}\".format(score)) "
   ]
  },
  {
   "cell_type": "code",
   "execution_count": 17,
   "metadata": {},
   "outputs": [
    {
     "data": {
      "image/png": "[encoded data removed]",
      "text/plain": [
       "<matplotlib.figure.Figure at 0x8c455d0>"
      ]
     },
     "metadata": {},
     "output_type": "display_data"
    }
   ],
   "source": [
    "#Итеративный отбор признаков\n",
    "from sklearn.feature_selection import RFE \n",
    "select = RFE(RandomForestClassifier(n_estimators=100, random_state=42),\n",
    "             n_features_to_select=40) \n",
    " \n",
    "select.fit(X_train, y_train) \n",
    "# визуализируем отобранные признаки: \n",
    "mask = select.get_support() \n",
    "plt.matshow(mask.reshape(1, -1), cmap='gray_r') \n",
    "plt.xlabel(\"Индекс примера\") \n",
    "plt.show()"
   ]
  },
  {
   "cell_type": "code",
   "execution_count": 18,
   "metadata": {},
   "outputs": [
    {
     "name": "stdout",
     "output_type": "stream",
     "text": [
      "Правильность на тестовом наборе: 0.951\n"
     ]
    }
   ],
   "source": [
    "X_train_rfe= select.transform(X_train) \n",
    "X_test_rfe= select.transform(X_test) \n",
    "score = LogisticRegression().fit(X_train_rfe, y_train).score(X_test_rfe, y_test)\n",
    "print(\"Правильность на тестовом наборе: {:.3f}\".format(score)) "
   ]
  },
  {
   "cell_type": "code",
   "execution_count": 19,
   "metadata": {},
   "outputs": [
    {
     "name": "stdout",
     "output_type": "stream",
     "text": [
      "Правильность на тестовом наборе: 0.951\n"
     ]
    }
   ],
   "source": [
    "#линейная модель дает ту же правильность, что и случайный лес при выборе правильных признаков:\n",
    "print(\"Правильность на тестовом наборе: {:.3f}\".format(select.score(X_test, y_test)))"
   ]
  },
  {
   "cell_type": "code",
   "execution_count": null,
   "metadata": {
    "collapsed": true
   },
   "outputs": [],
   "source": []
  }
 ],
 "metadata": {
  "kernelspec": {
   "display_name": "Python 3",
   "language": "python",
   "name": "python3"
  },
  "language_info": {
   "codemirror_mode": {
    "name": "ipython",
    "version": 3
   },
   "file_extension": ".py",
   "mimetype": "text/x-python",
   "name": "python",
   "nbconvert_exporter": "python",
   "pygments_lexer": "ipython3",
   "version": "3.6.3"
  }
 },
 "nbformat": 4,
 "nbformat_minor": 2
}
